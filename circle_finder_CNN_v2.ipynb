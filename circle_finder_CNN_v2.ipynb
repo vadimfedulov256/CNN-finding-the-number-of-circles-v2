{
 "cells": [
  {
   "cell_type": "markdown",
   "metadata": {},
   "source": [
    "# CNN finding quantity of circles in 4 numbers of different colors, version 2"
   ]
  },
  {
   "cell_type": "markdown",
   "metadata": {},
   "source": [
    "## Import all required libraries"
   ]
  },
  {
   "cell_type": "code",
   "execution_count": null,
   "metadata": {},
   "outputs": [],
   "source": [
    "import os\n",
    "import numpy as np\n",
    "from keras.preprocessing.image import ImageDataGenerator\n",
    "from keras.models import load_model\n",
    "from PIL import Image\n",
    "from IPython.display import display"
   ]
  },
  {
   "cell_type": "markdown",
   "metadata": {},
   "source": [
    "## Load CNN model"
   ]
  },
  {
   "cell_type": "code",
   "execution_count": null,
   "metadata": {},
   "outputs": [],
   "source": [
    "circle_finder_v2_model = load_model('models/circle_finder_CNN_v2.h5')\n",
    "# loss: 0.0270 - acc: 0.9977 - val_loss: 1.1921e-07 - val_acc: 1.0000\n",
    "# epochs: 50 - iterations: 500000"
   ]
  },
  {
   "cell_type": "code",
   "execution_count": null,
   "metadata": {},
   "outputs": [],
   "source": [
    "circle_finder_v2_model.summary() # to see the structure of our neural network"
   ]
  },
  {
   "cell_type": "markdown",
   "metadata": {},
   "source": [
    "## Load the test set"
   ]
  },
  {
   "cell_type": "code",
   "execution_count": null,
   "metadata": {},
   "outputs": [],
   "source": [
    "# dimensions of our images\n",
    "img_width, img_height = 600, 300\n",
    "# you can use any quantity of pictures in your dataset, but dont forget that\n",
    "# total number of them should be possible to devide by batch size\n",
    "test_data_dir = 'test'\n",
    "# set batch size whatever you want, but its better to set it as big as you can\n",
    "# for faster predictions\n",
    "batch_size = 25\n",
    "# set the number of steps equal to number of batches dataset can be devided\n",
    "steps = 2"
   ]
  },
  {
   "cell_type": "code",
   "execution_count": null,
   "metadata": {},
   "outputs": [],
   "source": [
    "test_generator = ImageDataGenerator().flow_from_directory(\n",
    "        test_data_dir,\n",
    "        target_size=(img_width, img_height),\n",
    "        color_mode='rgb',\n",
    "        batch_size=batch_size,\n",
    "        shuffle=False)"
   ]
  },
  {
   "cell_type": "markdown",
   "metadata": {},
   "source": [
    "## Make predictions by our trained CNN"
   ]
  },
  {
   "cell_type": "code",
   "execution_count": null,
   "metadata": {},
   "outputs": [],
   "source": [
    "pred = circle_finder_v2_model.predict_generator(test_generator, steps=steps)\n",
    "bsteps = batch_size * steps\n",
    "for i in xrange(bsteps):\n",
    "    x = pred[i, :]\n",
    "    if np.argmax(x, axis=0) == 0:\n",
    "        prediction = 0\n",
    "    if np.argmax(x, axis=0) == 1:\n",
    "        prediction = 1\n",
    "    if np.argmax(x, axis=0) == 2:\n",
    "        prediction = 2\n",
    "    if np.argmax(x, axis=0) == 3:\n",
    "        prediction = 3\n",
    "    if np.argmax(x, axis=0) == 4:\n",
    "        prediction = 4\n",
    "    if np.argmax(x, axis=0) == 5:\n",
    "        prediction = 5\n",
    "    if np.argmax(x, axis=0) == 6:\n",
    "        prediction = 6\n",
    "    if np.argmax(x, axis=0) == 7:\n",
    "        prediction = 7\n",
    "    if np.argmax(x, axis=0) == 8:\n",
    "        prediction = 8\n",
    "    introduction='Neural network prediction: ' \n",
    "    final_prediction=introduction+str(prediction)\n",
    "    im = Image.open('test/test/'+str(i+1).zfill(4)+'.png')\n",
    "    display(im, final_prediction)\n",
    "    # original_name = os.path.join('test/test/', str(num+1).zfill(4)+'.png')\n",
    "    # prediction_name = os.path.join('test/test/', str(num+1).zfill(4)+'_'+str(prediction)+'.png')\n",
    "    # os.rename(original_name, prediction_name)  # denote these lines to write predictions in the names"
   ]
  },
  {
   "cell_type": "markdown",
   "metadata": {},
   "source": [
    "Thats it!"
   ]
  }
 ],
 "metadata": {
  "kernelspec": {
   "display_name": "Python 2",
   "language": "python",
   "name": "python2"
  },
  "language_info": {
   "codemirror_mode": {
    "name": "ipython",
    "version": 2
   },
   "file_extension": ".py",
   "mimetype": "text/x-python",
   "name": "python",
   "nbconvert_exporter": "python",
   "pygments_lexer": "ipython2",
   "version": "2.7.12"
  }
 },
 "nbformat": 4,
 "nbformat_minor": 2
}
