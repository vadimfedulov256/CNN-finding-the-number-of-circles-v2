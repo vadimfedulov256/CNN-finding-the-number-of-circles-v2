{
 "cells": [
  {
   "cell_type": "markdown",
   "metadata": {},
   "source": [
    "# CNN finding quantity of circles in 4 numbers of different colors"
   ]
  },
  {
   "cell_type": "markdown",
   "metadata": {},
   "source": [
    "## Import all required libraries"
   ]
  },
  {
   "cell_type": "code",
   "execution_count": null,
   "metadata": {},
   "outputs": [],
   "source": [
    "import numpy as np\n",
    "from keras.preprocessing.image import ImageDataGenerator\n",
    "from keras.models import load_model\n",
    "from matplotlib import pyplot as plt\n",
    "import matplotlib.pyplot as plt"
   ]
  },
  {
   "cell_type": "markdown",
   "metadata": {},
   "source": [
    "## Load CNN model"
   ]
  },
  {
   "cell_type": "code",
   "execution_count": null,
   "metadata": {},
   "outputs": [],
   "source": [
    "circle_finder_model = load_model('models/circle_finder_CNN.h5')"
   ]
  },
  {
   "cell_type": "code",
   "execution_count": null,
   "metadata": {},
   "outputs": [],
   "source": [
    "circle_finder_model.summary() # to see the structure of our neural network"
   ]
  },
  {
   "cell_type": "markdown",
   "metadata": {},
   "source": [
    "## Load the test set"
   ]
  },
  {
   "cell_type": "code",
   "execution_count": null,
   "metadata": {},
   "outputs": [],
   "source": [
    "# dimensions of our images.\n",
    "img_width, img_height = 56, 28\n",
    "# you should use only one picture in your dataset, because of random vizualization of batches problem\n",
    "test_data_dir = 'test'\n",
    "# set batch_size=1 for correct vizualisation\n",
    "batch_size=1"
   ]
  },
  {
   "cell_type": "code",
   "execution_count": null,
   "metadata": {},
   "outputs": [],
   "source": [
    "test_generator = ImageDataGenerator().flow_from_directory(\n",
    "        test_data_dir,\n",
    "        target_size=(img_width, img_height),\n",
    "        color_mode='rgb',\n",
    "        batch_size=batch_size)"
   ]
  },
  {
   "cell_type": "markdown",
   "metadata": {},
   "source": [
    "## Make predictions by our trained CNN"
   ]
  },
  {
   "cell_type": "code",
   "execution_count": null,
   "metadata": {},
   "outputs": [],
   "source": [
    "# plots images with labels within jupyter notebook\n",
    "def plots(ims, figsize=(2,6), rows=1, interp=False, titles=None):\n",
    "    if type(ims[0]) is np.ndarray:\n",
    "        ims = np.array(ims).astype(np.uint8)\n",
    "        if (ims.shape [-1] != 3):\n",
    "            ims = ims.transpose((0,2,3,1))\n",
    "    f = plt.figure(figsize=figsize)\n",
    "    cols = len(ims)//rows if len(ims) % 2 == 0 else len(ims)//rows + 1\n",
    "    for i in range(len(ims)):\n",
    "        sp = f.add_subplot(rows, cols, i+1)\n",
    "        sp.axis('Off')\n",
    "        if titles is not None:\n",
    "            sp.set_title(titles[i], fontsize=16)\n",
    "        plt.imshow(ims[i], interpolation=None if interp else 'none')"
   ]
  },
  {
   "cell_type": "code",
   "execution_count": null,
   "metadata": {},
   "outputs": [],
   "source": [
    "predictions = circle_finder_model.predict_generator(test_generator, steps=1) #set steps=1 for correct vizualisation\n",
    "num=0\n",
    "for j in xrange(batch_size): # this script can work with different batch_size and steps, but images are not synchronous\n",
    "    arr=predictions          # so it is a very useful code for ordinary terminal predictions without any vizualisation\n",
    "    a=arr[num,0]\n",
    "    b=arr[num,1]\n",
    "    c=arr[num,2]\n",
    "    d=arr[num,3]\n",
    "    e=arr[num,4]\n",
    "    f=arr[num,5]\n",
    "    g=arr[num,6]\n",
    "    h=arr[num,7]\n",
    "    i=arr[num,8]\n",
    "    if a>b and a>c and a>d and a>e and a>f and a>g and a>h and a>i:\n",
    "        prediction=[0]\n",
    "    if b>a and b>c and b>d and b>e and b>f and b>g and b>h and b>i:\n",
    "        prediction=[1]\n",
    "    if c>a and c>b and c>d and c>e and c>f and c>g and c>h and c>i:\n",
    "        prediction=[2]\n",
    "    if d>a and d>b and d>c and d>e and d>f and d>g and d>h and d>i:\n",
    "        prediction=[3]\n",
    "    if e>a and e>b and e>c and e>d and e>f and e>g and e>h and e>i:\n",
    "        prediction=[4]\n",
    "    if f>a and f>b and f>c and f>d and f>e and f>g and f>h and f>i:\n",
    "        prediction=[5]\n",
    "    if g>a and g>b and g>c and g>d and g>e and g>f and g>h and g>i:\n",
    "        prediction=[6]\n",
    "    if h>a and h>b and h>c and h>d and h>e and h>f and h>g and h>i:\n",
    "        prediction=[7]\n",
    "    if i>a and i>b and i>c and i>d and i>e and i>f and i>g and i>h:\n",
    "        prediction=[8]\n",
    "    num+=1"
   ]
  },
  {
   "cell_type": "code",
   "execution_count": null,
   "metadata": {},
   "outputs": [],
   "source": [
    "imgs, labels = next(test_generator)\n",
    "plots(imgs, titles=prediction)"
   ]
  },
  {
   "cell_type": "markdown",
   "metadata": {},
   "source": [
    "Thats it!"
   ]
  }
 ],
 "metadata": {
  "kernelspec": {
   "display_name": "Python 2",
   "language": "python",
   "name": "python2"
  },
  "language_info": {
   "codemirror_mode": {
    "name": "ipython",
    "version": 2
   },
   "file_extension": ".py",
   "mimetype": "text/x-python",
   "name": "python",
   "nbconvert_exporter": "python",
   "pygments_lexer": "ipython2",
   "version": "2.7.12"
  }
 },
 "nbformat": 4,
 "nbformat_minor": 2
}
