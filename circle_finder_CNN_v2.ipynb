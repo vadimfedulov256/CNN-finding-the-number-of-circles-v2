{
 "cells": [
  {
   "cell_type": "markdown",
   "metadata": {},
   "source": [
    "# CNN finding quantity of circles in 4 numbers of different colors, version 2"
   ]
  },
  {
   "cell_type": "markdown",
   "metadata": {},
   "source": [
    "## Import all required libraries"
   ]
  },
  {
   "cell_type": "code",
   "execution_count": null,
   "metadata": {},
   "outputs": [],
   "source": [
    "import os\n",
    "from keras.preprocessing.image import ImageDataGenerator\n",
    "from keras.models import load_model\n",
    "from PIL import Image\n",
    "from IPython.display import display"
   ]
  },
  {
   "cell_type": "markdown",
   "metadata": {},
   "source": [
    "## Load CNN model"
   ]
  },
  {
   "cell_type": "code",
   "execution_count": null,
   "metadata": {},
   "outputs": [],
   "source": [
    "circle_finder_v2_model = load_model('models/circle_finder_CNN_v2.h5')\n",
    "# loss: 0.0270 - acc: 0.9977 - val_loss: 1.1921e-07 - val_acc: 1.0000\n",
    "# epochs: 50 - iterations: 500000"
   ]
  },
  {
   "cell_type": "code",
   "execution_count": null,
   "metadata": {},
   "outputs": [],
   "source": [
    "circle_finder_v2_model.summary() # to see the structure of our neural network"
   ]
  },
  {
   "cell_type": "markdown",
   "metadata": {},
   "source": [
    "## Load the test set"
   ]
  },
  {
   "cell_type": "code",
   "execution_count": null,
   "metadata": {},
   "outputs": [],
   "source": [
    "# dimensions of our images\n",
    "img_width, img_height = 600, 300\n",
    "# you can use any quantity of pictures in your dataset, but dont forget that total number of them should be possible to devide by batch size\n",
    "test_data_dir = 'test'\n",
    "# set batch size whatever you want, but its better to set it as big as you can for faster predictions\n",
    "batch_size=10\n",
    "# set the number of steps equal to number of batches dataset can be devided (ex. if dataset has 100 pictures then batch size can be 25 and steps 4 then)\n",
    "steps=5"
   ]
  },
  {
   "cell_type": "code",
   "execution_count": null,
   "metadata": {},
   "outputs": [],
   "source": [
    "test_generator = ImageDataGenerator().flow_from_directory(\n",
    "        test_data_dir,\n",
    "        target_size=(img_width, img_height),\n",
    "        color_mode='rgb',\n",
    "        batch_size=batch_size,\n",
    "        shuffle=False)"
   ]
  },
  {
   "cell_type": "markdown",
   "metadata": {},
   "source": [
    "## Make predictions by our trained CNN"
   ]
  },
  {
   "cell_type": "code",
   "execution_count": null,
   "metadata": {},
   "outputs": [],
   "source": [
    "predictions = circle_finder_v2_model.predict_generator(test_generator, steps=steps)\n",
    "bsteps=batch_size*steps\n",
    "num=0\n",
    "for i in xrange(bsteps):\n",
    "    arr=predictions\n",
    "    a=arr[num,0]\n",
    "    b=arr[num,1]\n",
    "    c=arr[num,2]\n",
    "    d=arr[num,3]\n",
    "    e=arr[num,4]\n",
    "    f=arr[num,5]\n",
    "    g=arr[num,6]\n",
    "    h=arr[num,7]\n",
    "    i=arr[num,8]\n",
    "    if a>b and a>c and a>d and a>e and a>f and a>g and a>h and a>i:\n",
    "        prediction=0\n",
    "    if b>a and b>c and b>d and b>e and b>f and b>g and b>h and b>i:\n",
    "        prediction=1\n",
    "    if c>a and c>b and c>d and c>e and c>f and c>g and c>h and c>i:\n",
    "        prediction=2\n",
    "    if d>a and d>b and d>c and d>e and d>f and d>g and d>h and d>i:\n",
    "        prediction=3\n",
    "    if e>a and e>b and e>c and e>d and e>f and e>g and e>h and e>i:\n",
    "        prediction=4\n",
    "    if f>a and f>b and f>c and f>d and f>e and f>g and f>h and f>i:\n",
    "        prediction=5\n",
    "    if g>a and g>b and g>c and g>d and g>e and g>f and g>h and g>i:\n",
    "        prediction=6\n",
    "    if h>a and h>b and h>c and h>d and h>e and h>f and h>g and h>i:\n",
    "        prediction=7\n",
    "    if i>a and i>b and i>c and i>d and i>e and i>f and i>g and i>h:\n",
    "        prediction=8\n",
    "    introduction='Neural network prediction: ' \n",
    "    final_prediction=introduction+str(prediction)\n",
    "    im = Image.open('test/test/'+str(num+1).zfill(4)+'.png')\n",
    "    display(im, final_prediction)\n",
    "    #original_name = os.path.join('test/test/', str(num+1).zfill(4)+'.png')\n",
    "    #prediction_name = os.path.join('test/test/', str(num+1).zfill(4)+'_'+str(prediction)+'.png')\n",
    "    #os.rename(original_name, prediction_name) # denote these lines to write predictions in the names\n",
    "    num+=1"
   ]
  },
  {
   "cell_type": "markdown",
   "metadata": {},
   "source": [
    "Thats it!"
   ]
  }
 ],
 "metadata": {
  "kernelspec": {
   "display_name": "Python 2",
   "language": "python",
   "name": "python2"
  },
  "language_info": {
   "codemirror_mode": {
    "name": "ipython",
    "version": 2
   },
   "file_extension": ".py",
   "mimetype": "text/x-python",
   "name": "python",
   "nbconvert_exporter": "python",
   "pygments_lexer": "ipython2",
   "version": "2.7.12"
  }
 },
 "nbformat": 4,
 "nbformat_minor": 2
}
